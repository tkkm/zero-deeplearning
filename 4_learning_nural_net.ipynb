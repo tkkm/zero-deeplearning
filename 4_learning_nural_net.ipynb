{
 "cells": [
  {
   "cell_type": "markdown",
   "metadata": {},
   "source": [
    "# 4.2.1"
   ]
  },
  {
   "cell_type": "code",
   "execution_count": 1,
   "metadata": {},
   "outputs": [],
   "source": [
    "import numpy as np\n",
    "\n",
    "def mean_squared_error(y, t):\n",
    "    return 0.5 * np.sum((y-t)**2)\n"
   ]
  },
  {
   "cell_type": "code",
   "execution_count": 2,
   "metadata": {},
   "outputs": [],
   "source": [
    "t = np.array([0, 0, 1, 0, 0, 0, 0, 0, 0, 0])\n",
    "y = np.array([0.1, 0.05, 0.6, 0.0, 0.05, 0.1, 0.0, 0.1, 0.0, 0.0])\n"
   ]
  },
  {
   "cell_type": "code",
   "execution_count": 3,
   "metadata": {},
   "outputs": [
    {
     "data": {
      "text/plain": [
       "0.09750000000000003"
      ]
     },
     "execution_count": 3,
     "metadata": {},
     "output_type": "execute_result"
    }
   ],
   "source": [
    "mean_squared_error(y, t)"
   ]
  },
  {
   "cell_type": "code",
   "execution_count": 4,
   "metadata": {},
   "outputs": [],
   "source": [
    "def cross_entropy_error(y, t):\n",
    "    delta = 1e-7\n",
    "    return -np.sum(t * np.log(y + delta))\n"
   ]
  },
  {
   "cell_type": "code",
   "execution_count": 5,
   "metadata": {},
   "outputs": [
    {
     "data": {
      "text/plain": [
       "0.510825457099338"
      ]
     },
     "execution_count": 5,
     "metadata": {},
     "output_type": "execute_result"
    }
   ],
   "source": [
    "cross_entropy_error(y, t)"
   ]
  },
  {
   "cell_type": "markdown",
   "metadata": {},
   "source": [
    "# 4.2.3"
   ]
  },
  {
   "cell_type": "code",
   "execution_count": 6,
   "metadata": {},
   "outputs": [],
   "source": [
    "import sys\n",
    "import os\n",
    "\n",
    "sys.path.append(os.pardir)\n"
   ]
  },
  {
   "cell_type": "code",
   "execution_count": 7,
   "metadata": {},
   "outputs": [
    {
     "name": "stdout",
     "output_type": "stream",
     "text": [
      "(60000, 784)\n",
      "(60000, 10)\n"
     ]
    }
   ],
   "source": [
    "import numpy as np\n",
    "from dataset.mnist import load_mnist\n",
    "\n",
    "(x_train, y_train), (x_test, y_test) = load_mnist(normalize=False, one_hot_label=True)\n",
    "\n",
    "print(x_train.shape)\n",
    "print(y_train.shape)"
   ]
  },
  {
   "cell_type": "code",
   "execution_count": 8,
   "metadata": {},
   "outputs": [],
   "source": [
    "train_size = x_train.shape[0]\n",
    "batch_size = 10\n",
    "batch_mask = np.random.choice(train_size, batch_size)\n",
    "x_batch = x_train[batch_mask]\n",
    "y_batch = y_train[batch_mask]"
   ]
  },
  {
   "cell_type": "code",
   "execution_count": 9,
   "metadata": {},
   "outputs": [
    {
     "data": {
      "text/plain": [
       "array([[0, 0, 0, ..., 0, 0, 0],\n",
       "       [0, 0, 0, ..., 0, 0, 0],\n",
       "       [0, 0, 0, ..., 0, 0, 0],\n",
       "       ...,\n",
       "       [0, 0, 0, ..., 0, 0, 0],\n",
       "       [0, 0, 0, ..., 0, 0, 0],\n",
       "       [0, 0, 0, ..., 0, 0, 0]], dtype=uint8)"
      ]
     },
     "execution_count": 9,
     "metadata": {},
     "output_type": "execute_result"
    }
   ],
   "source": [
    "x_batch"
   ]
  },
  {
   "cell_type": "code",
   "execution_count": 10,
   "metadata": {},
   "outputs": [
    {
     "data": {
      "text/plain": [
       "array([[0., 0., 0., 0., 0., 0., 0., 1., 0., 0.],\n",
       "       [0., 1., 0., 0., 0., 0., 0., 0., 0., 0.],\n",
       "       [0., 0., 0., 0., 0., 0., 0., 1., 0., 0.],\n",
       "       [0., 0., 0., 0., 1., 0., 0., 0., 0., 0.],\n",
       "       [0., 0., 1., 0., 0., 0., 0., 0., 0., 0.],\n",
       "       [0., 0., 0., 0., 0., 0., 1., 0., 0., 0.],\n",
       "       [0., 0., 0., 0., 0., 0., 1., 0., 0., 0.],\n",
       "       [0., 0., 0., 0., 0., 0., 0., 1., 0., 0.],\n",
       "       [0., 0., 0., 0., 0., 1., 0., 0., 0., 0.],\n",
       "       [0., 1., 0., 0., 0., 0., 0., 0., 0., 0.]])"
      ]
     },
     "execution_count": 10,
     "metadata": {},
     "output_type": "execute_result"
    }
   ],
   "source": [
    "y_batch"
   ]
  },
  {
   "cell_type": "markdown",
   "metadata": {},
   "source": [
    "# 4.2.4"
   ]
  },
  {
   "cell_type": "code",
   "execution_count": 11,
   "metadata": {},
   "outputs": [],
   "source": [
    "def cross_entropy_error(y, t):\n",
    "    if y.ndim == 1:\n",
    "        t = t.reshape(1, t.size)\n",
    "        y = y.reshape(1, y.size)\n",
    "    \n",
    "    batch_size = y.shape[0]\n",
    "    return -np.sum(t * np.log(y + 1e-7)) / batch_size\n"
   ]
  },
  {
   "cell_type": "code",
   "execution_count": 12,
   "metadata": {},
   "outputs": [
    {
     "data": {
      "text/plain": [
       "0.510825457099338"
      ]
     },
     "execution_count": 12,
     "metadata": {},
     "output_type": "execute_result"
    }
   ],
   "source": [
    "cross_entropy_error(y, t)"
   ]
  },
  {
   "cell_type": "markdown",
   "metadata": {},
   "source": [
    "# 4.3.1"
   ]
  },
  {
   "cell_type": "code",
   "execution_count": 13,
   "metadata": {},
   "outputs": [],
   "source": [
    "def numerical_diff(f, x):\n",
    "    h = 1e-4\n",
    "    return (f(x+h) - f(x-h)) / (2 * h)"
   ]
  },
  {
   "cell_type": "markdown",
   "metadata": {},
   "source": [
    "# 4.3.2"
   ]
  },
  {
   "cell_type": "code",
   "execution_count": 14,
   "metadata": {},
   "outputs": [],
   "source": [
    "def function_1(x):\n",
    "    return 0.01*x**2 + 0.1 * x"
   ]
  },
  {
   "cell_type": "code",
   "execution_count": 15,
   "metadata": {},
   "outputs": [
    {
     "data": {
      "text/plain": [
       "0.1999999999990898"
      ]
     },
     "execution_count": 15,
     "metadata": {},
     "output_type": "execute_result"
    }
   ],
   "source": [
    "numerical_diff(function_1, 5)"
   ]
  },
  {
   "cell_type": "code",
   "execution_count": 16,
   "metadata": {},
   "outputs": [
    {
     "data": {
      "text/plain": [
       "0.2999999999986347"
      ]
     },
     "execution_count": 16,
     "metadata": {},
     "output_type": "execute_result"
    }
   ],
   "source": [
    "numerical_diff(function_1, 10)"
   ]
  },
  {
   "cell_type": "code",
   "execution_count": 17,
   "metadata": {},
   "outputs": [
    {
     "name": "stdout",
     "output_type": "stream",
     "text": [
      "0.1999999999990898\n"
     ]
    },
    {
     "data": {
      "image/png": "[encoded data removed]",
      "text/plain": [
       "<Figure size 432x288 with 1 Axes>"
      ]
     },
     "metadata": {
      "needs_background": "light"
     },
     "output_type": "display_data"
    }
   ],
   "source": [
    "import numpy as np\n",
    "import matplotlib.pylab as plt\n",
    "\n",
    "def tangent_line(f, x):\n",
    "    d = numerical_diff(f, x)\n",
    "    print(d)\n",
    "    y = f(x) - d*x\n",
    "    return lambda t: d*t + y\n",
    "     \n",
    "x = np.arange(0.0, 20.0, 0.1)\n",
    "y = function_1(x)\n",
    "plt.xlabel(\"x\")\n",
    "plt.ylabel(\"f(x)\")\n",
    "\n",
    "tf = tangent_line(function_1, 5)\n",
    "y2 = tf(x)\n",
    "\n",
    "plt.plot(x, y)\n",
    "plt.plot(x, y2)\n",
    "plt.show()"
   ]
  },
  {
   "cell_type": "markdown",
   "metadata": {},
   "source": [
    "# 4.3.3"
   ]
  },
  {
   "cell_type": "code",
   "execution_count": 18,
   "metadata": {},
   "outputs": [],
   "source": [
    "def function_2(x):\n",
    "    return x[0]**2 + x[1]**2"
   ]
  },
  {
   "cell_type": "code",
   "execution_count": 19,
   "metadata": {},
   "outputs": [
    {
     "data": {
      "image/png": "[encoded data removed]",
      "text/plain": [
       "<Figure size 432x288 with 2 Axes>"
      ]
     },
     "metadata": {
      "needs_background": "light"
     },
     "output_type": "display_data"
    }
   ],
   "source": [
    "from mpl_toolkits.mplot3d import Axes3D\n",
    "\n",
    "domain = np.arange(-3, 4, 0.5)\n",
    "x, y = np.meshgrid(domain, domain)\n",
    "\n",
    "X = np.vstack([np.ravel(x), np.ravel(y)]).T\n",
    "\n",
    "z = np.array([function_2(x) for x in X]).reshape(len(domain), len(domain))\n",
    "\n",
    "fig = plt.figure()\n",
    "ax = fig.add_subplot(111, projection='3d')\n",
    "surf = ax.plot_surface(x, y, z)\n",
    "fig.colorbar(surf)\n",
    "fig.show()"
   ]
  },
  {
   "cell_type": "code",
   "execution_count": 20,
   "metadata": {},
   "outputs": [
    {
     "data": {
      "text/plain": [
       "6.00000000000378"
      ]
     },
     "execution_count": 20,
     "metadata": {},
     "output_type": "execute_result"
    }
   ],
   "source": [
    "def function_tmp1(x0):\n",
    "    return x0**2 + 4.00**2\n",
    "\n",
    "numerical_diff(function_tmp1, 3.0)"
   ]
  },
  {
   "cell_type": "code",
   "execution_count": 21,
   "metadata": {},
   "outputs": [
    {
     "data": {
      "text/plain": [
       "7.999999999999119"
      ]
     },
     "execution_count": 21,
     "metadata": {},
     "output_type": "execute_result"
    }
   ],
   "source": [
    "def function_tmp2(x1):\n",
    "    return 3.00**2 + x1**2\n",
    "\n",
    "numerical_diff(function_tmp2, 4.0)"
   ]
  },
  {
   "cell_type": "markdown",
   "metadata": {},
   "source": [
    "# 4.4"
   ]
  },
  {
   "cell_type": "code",
   "execution_count": 22,
   "metadata": {},
   "outputs": [],
   "source": [
    "def numerical_gradient(f, x):\n",
    "    h = 1e-4\n",
    "    grad = np.zeros_like(x)\n",
    "    \n",
    "    for idx in range(x.size):\n",
    "        tmp_val = x[idx]\n",
    "        \n",
    "        x[idx] = tmp_val + h\n",
    "        fxh1 = f(x)\n",
    "        \n",
    "        x[idx] = tmp_val - h\n",
    "        fxh2 = f(x)\n",
    "        \n",
    "        grad[idx] = (fxh1 -fxh2) / (2*h)\n",
    "        x[idx] = tmp_val\n",
    "        \n",
    "    return grad\n"
   ]
  },
  {
   "cell_type": "code",
   "execution_count": 23,
   "metadata": {},
   "outputs": [
    {
     "name": "stdout",
     "output_type": "stream",
     "text": [
      "[6. 8.]\n",
      "[0. 4.]\n",
      "[6. 0.]\n"
     ]
    }
   ],
   "source": [
    "print(numerical_gradient(function_2, np.array([3.0, 4.0])))\n",
    "print(numerical_gradient(function_2, np.array([0.0, 2.0])))\n",
    "print(numerical_gradient(function_2, np.array([3.0, 0.0])))"
   ]
  },
  {
   "cell_type": "code",
   "execution_count": 24,
   "metadata": {},
   "outputs": [
    {
     "data": {
      "image/png": "[encoded data removed]",
      "text/plain": [
       "<Figure size 432x288 with 1 Axes>"
      ]
     },
     "metadata": {
      "needs_background": "light"
     },
     "output_type": "display_data"
    }
   ],
   "source": [
    "# https://github.com/oreilly-japan/deep-learning-from-scratch/blob/master/ch04/gradient_2d.py\n",
    "\n",
    "import numpy as np\n",
    "import matplotlib.pylab as plt\n",
    "from mpl_toolkits.mplot3d import Axes3D\n",
    "\n",
    "\n",
    "def _numerical_gradient_no_batch(f, x):\n",
    "    h = 1e-4  # 0.0001\n",
    "    grad = np.zeros_like(x)\n",
    "    \n",
    "    for idx in range(x.size):\n",
    "        tmp_val = x[idx]\n",
    "        x[idx] = float(tmp_val) + h\n",
    "        fxh1 = f(x)  # f(x+h)\n",
    "        \n",
    "        x[idx] = tmp_val - h \n",
    "        fxh2 = f(x)  # f(x-h)\n",
    "        grad[idx] = (fxh1 - fxh2) / (2*h)\n",
    "        \n",
    "        x[idx] = tmp_val  # 値を元に戻す\n",
    "        \n",
    "    return grad\n",
    "\n",
    "\n",
    "def numerical_gradient(f, X):\n",
    "    if X.ndim == 1:\n",
    "        return _numerical_gradient_no_batch(f, X)\n",
    "    else:\n",
    "        grad = np.zeros_like(X)\n",
    "        \n",
    "        for idx, x in enumerate(X):\n",
    "            grad[idx] = _numerical_gradient_no_batch(f, x)\n",
    "        \n",
    "        return grad\n",
    "\n",
    "\n",
    "def function_2(x):\n",
    "    if x.ndim == 1:\n",
    "        return np.sum(x**2)\n",
    "    else:\n",
    "        return np.sum(x**2, axis=1)\n",
    "\n",
    "\n",
    "def tangent_line(f, x):\n",
    "    d = numerical_gradient(f, x)\n",
    "    print(d)\n",
    "    y = f(x) - d*x\n",
    "    return lambda t: d*t + y\n",
    "\n",
    "\n",
    "if __name__ == '__main__':\n",
    "    x0 = np.arange(-2, 2.5, 0.25)\n",
    "    x1 = np.arange(-2, 2.5, 0.25)\n",
    "    X, Y = np.meshgrid(x0, x1)\n",
    "    \n",
    "    X = X.flatten()\n",
    "    Y = Y.flatten()\n",
    "\n",
    "    grad = numerical_gradient(function_2, np.array([X, Y]).T).T\n",
    "\n",
    "    plt.figure()\n",
    "    plt.quiver(X, Y, -grad[0], -grad[1],  angles=\"xy\",color=\"#666666\")\n",
    "    plt.xlim([-2, 2])\n",
    "    plt.ylim([-2, 2])\n",
    "    plt.xlabel('x0')\n",
    "    plt.ylabel('x1')\n",
    "    plt.grid()\n",
    "    plt.draw()\n",
    "    plt.show()"
   ]
  },
  {
   "cell_type": "markdown",
   "metadata": {},
   "source": [
    "# 4.4.1"
   ]
  },
  {
   "cell_type": "code",
   "execution_count": 25,
   "metadata": {},
   "outputs": [],
   "source": [
    "def gradient_desent(f, init_x, lr=0.01, step_num=100):\n",
    "    x = init_x\n",
    "    \n",
    "    for i in range(step_num):\n",
    "        grad = numerical_gradient(f, x)\n",
    "        x -= lr * grad\n",
    "        \n",
    "    return x"
   ]
  },
  {
   "cell_type": "code",
   "execution_count": 26,
   "metadata": {},
   "outputs": [],
   "source": [
    "def function_2(x):\n",
    "    return x[0]**2 + x[1]**2"
   ]
  },
  {
   "cell_type": "code",
   "execution_count": 27,
   "metadata": {},
   "outputs": [
    {
     "data": {
      "text/plain": [
       "array([-6.11110793e-10, -8.14814391e-10])"
      ]
     },
     "execution_count": 27,
     "metadata": {},
     "output_type": "execute_result"
    }
   ],
   "source": [
    "init_x = np.array([-3.0, -4.0])\n",
    "gradient_desent(function_2, init_x, lr=0.1, step_num=100)"
   ]
  },
  {
   "cell_type": "code",
   "execution_count": 28,
   "metadata": {},
   "outputs": [
    {
     "data": {
      "image/png": "[encoded data removed]",
      "text/plain": [
       "<Figure size 432x288 with 1 Axes>"
      ]
     },
     "metadata": {
      "needs_background": "light"
     },
     "output_type": "display_data"
    }
   ],
   "source": [
    "# https://github.com/oreilly-japan/deep-learning-from-scratch/blob/master/ch04/gradient_method.py\n",
    "import numpy as np\n",
    "import matplotlib.pylab as plt\n",
    "# from gradient_2d import numerical_gradient\n",
    "\n",
    "\n",
    "def gradient_descent(f, init_x, lr=0.01, step_num=100):\n",
    "    x = init_x\n",
    "    x_history = []\n",
    "\n",
    "    for i in range(step_num):\n",
    "        x_history.append( x.copy() )\n",
    "\n",
    "        grad = numerical_gradient(f, x)\n",
    "        x -= lr * grad\n",
    "\n",
    "    return x, np.array(x_history)\n",
    "\n",
    "\n",
    "def function_2(x):\n",
    "    return x[0]**2 + x[1]**2\n",
    "\n",
    "init_x = np.array([-3.0, 4.0])    \n",
    "\n",
    "lr = 0.1\n",
    "step_num = 20\n",
    "x, x_history = gradient_descent(function_2, init_x, lr=lr, step_num=step_num)\n",
    "\n",
    "plt.plot( [-5, 5], [0,0], '--b')\n",
    "plt.plot( [0,0], [-5, 5], '--b')\n",
    "plt.plot(x_history[:,0], x_history[:,1], 'o')\n",
    "\n",
    "plt.xlim(-3.5, 3.5)\n",
    "plt.ylim(-4.5, 4.5)\n",
    "plt.xlabel(\"X0\")\n",
    "plt.ylabel(\"X1\")\n",
    "plt.show()"
   ]
  },
  {
   "cell_type": "code",
   "execution_count": 29,
   "metadata": {},
   "outputs": [
    {
     "name": "stdout",
     "output_type": "stream",
     "text": [
      "[-2.58983747e+13  1.29524862e+12]\n",
      "[-2.99999994 -3.99999992]\n"
     ]
    }
   ],
   "source": [
    "print(gradient_desent(function_2, np.array([-3.0, -4.0]), lr=10.0, step_num=100))\n",
    "print(gradient_desent(function_2, np.array([-3.0, -4.0]), lr=1e-10, step_num=100))"
   ]
  },
  {
   "cell_type": "code",
   "execution_count": 38,
   "metadata": {},
   "outputs": [
    {
     "data": {
      "text/plain": [
       "['/home/jovyan/work/Documents/GitHub/zero-deeplearning',\n",
       " '/opt/conda/lib/python37.zip',\n",
       " '/opt/conda/lib/python3.7',\n",
       " '/opt/conda/lib/python3.7/lib-dynload',\n",
       " '',\n",
       " '/opt/conda/lib/python3.7/site-packages',\n",
       " '/opt/conda/lib/python3.7/site-packages/IPython/extensions',\n",
       " '/home/jovyan/.ipython',\n",
       " '..',\n",
       " '..',\n",
       " '..',\n",
       " '..',\n",
       " '..',\n",
       " '..']"
      ]
     },
     "execution_count": 38,
     "metadata": {},
     "output_type": "execute_result"
    }
   ],
   "source": [
    "os.getcwd()\n",
    "sys.path"
   ]
  },
  {
   "cell_type": "markdown",
   "metadata": {},
   "source": [
    "# 4.4.2"
   ]
  },
  {
   "cell_type": "code",
   "execution_count": 42,
   "metadata": {},
   "outputs": [
    {
     "name": "stdout",
     "output_type": "stream",
     "text": [
      "[[ 0.11307287  0.45962042 -0.57269329]\n",
      " [ 0.16960931  0.68943063 -0.85903993]]\n"
     ]
    }
   ],
   "source": [
    "# https://github.com/oreilly-japan/deep-learning-from-scratch/blob/master/ch04/gradient_simplenet.py\n",
    "import sys, os\n",
    "sys.path.append(os.pardir)  # 親ディレクトリのファイルをインポートするための設定\n",
    "import numpy as np\n",
    "from common.functions import softmax, cross_entropy_error\n",
    "from common.gradient import numerical_gradient\n",
    "\n",
    "\n",
    "def numerical_gradient(f, x):\n",
    "    h = 1e-4 # 0.0001\n",
    "    grad = np.zeros_like(x)\n",
    "    \n",
    "    it = np.nditer(x, flags=['multi_index'], op_flags=['readwrite'])\n",
    "    while not it.finished:\n",
    "        # simpleNet.W(instance変数)を書き換えて勾配を求めている。\n",
    "        idx = it.multi_index\n",
    "        tmp_val = x[idx]\n",
    "        x[idx] = tmp_val + h\n",
    "        fxh1 = f(x) # f(x+h)\n",
    "                \n",
    "        x[idx] = tmp_val - h \n",
    "        fxh2 = f(x) # f(x-h)\n",
    "        grad[idx] = (fxh1 - fxh2) / (2*h)\n",
    "        x[idx] = tmp_val # 値を元に戻す\n",
    "        it.iternext()   \n",
    "        \n",
    "    return grad\n",
    "\n",
    "class simpleNet:\n",
    "    def __init__(self):\n",
    "        self.W = np.random.randn(2,3)\n",
    "\n",
    "    def predict(self, x):\n",
    "        return np.dot(x, self.W)\n",
    "\n",
    "    def loss(self, x, t):\n",
    "        z = self.predict(x)\n",
    "        y = softmax(z)\n",
    "        loss = cross_entropy_error(y, t)\n",
    "\n",
    "        return loss\n",
    "\n",
    "x = np.array([0.6, 0.9])\n",
    "t = np.array([0, 0, 1])\n",
    "\n",
    "net = simpleNet()\n",
    "\n",
    "f = lambda w: net.loss(x, t)\n",
    "dW = numerical_gradient(f, net.W)\n",
    "\n",
    "print(dW)"
   ]
  },
  {
   "cell_type": "code",
   "execution_count": null,
   "metadata": {},
   "outputs": [],
   "source": [
    "net = simpleNet()\n",
    "print(net.W)"
   ]
  },
  {
   "cell_type": "code",
   "execution_count": null,
   "metadata": {},
   "outputs": [],
   "source": [
    "x = np.array([0.6, 0.9])\n",
    "p = net.predict(x)\n",
    "p"
   ]
  },
  {
   "cell_type": "code",
   "execution_count": null,
   "metadata": {},
   "outputs": [],
   "source": [
    "t = np.array([0, 0, 1]) # 正解ラベル\n",
    "net.loss(x, t)"
   ]
  },
  {
   "cell_type": "code",
   "execution_count": null,
   "metadata": {},
   "outputs": [],
   "source": [
    "dw = numerical_gradient(lambda _: net.loss(x, t), net.W)\n",
    "dw"
   ]
  },
  {
   "cell_type": "markdown",
   "metadata": {},
   "source": [
    "# 4.5.1"
   ]
  },
  {
   "cell_type": "code",
   "execution_count": 43,
   "metadata": {},
   "outputs": [],
   "source": [
    "import sys, os\n",
    "sys.path.append(os.pardir)\n",
    "from common.functions import *\n",
    "from common.gradient import numerical_gradient\n",
    "\n",
    "\n",
    "class TwoLayerNet:\n",
    "    \n",
    "    def __init__(self, input_size: int, hidden_size: int, output_size: int, weight_init_std: float = 0.01):\n",
    "        self.params = {}\n",
    "        self.params['w1'] = weight_init_std * np.random.randn(input_size, hidden_size)\n",
    "        self.params['b1'] = np.zeros(hidden_size)        \n",
    "        \n",
    "        self.params['w2'] = weight_init_std * np.random.randn(hidden_size, output_size)\n",
    "        self.params['b2'] = np.zeros(output_size)\n",
    "\n",
    "    def predict(self, x):\n",
    "        w1, w2 = self.params['w1'], self.params['w2']\n",
    "        b1, b2 = self.params['b1'], self.params['b2']\n",
    "        \n",
    "        a1 = np.dot(x, w1) + b1\n",
    "        z1 = sigmoid(a1)\n",
    "        \n",
    "        a2 = np.dot(z1, w2) + b2\n",
    "        y = softmax(a2)\n",
    "        \n",
    "        return y\n",
    "\n",
    "    def loss(self, x, t):\n",
    "        \"\"\" x: 入力データ y: 教師データ \"\"\"\n",
    "        y = self.predict(x)\n",
    "        return cross_entropy_error(y, t)\n",
    "    \n",
    "    def accuracy(self, x, t):\n",
    "        y = self.predict(x)\n",
    "        y = np.argmax(y, axis=1)\n",
    "        t = np.argmax(t, axis=1)\n",
    "        \n",
    "        accuracy = np.sum(y == t) / float(x.shape[0])\n",
    "        return accuracy\n",
    "    \n",
    "    def numerical_gradient(self, x, t):\n",
    "        def loss_w(w):\n",
    "            # wを更新した結果を用いてlossを計算するが、\n",
    "            # numerical_gradient内で直接instance変数を書き換える処理が行われているので、\n",
    "            # 引数として渡さなくともwの勾配が求まる\n",
    "            return self.loss(x, t)\n",
    "        \n",
    "        grads = {}\n",
    "        grads['w1'] = numerical_gradient(loss_w, self.params['w1'])\n",
    "        grads['b1'] = numerical_gradient(loss_w, self.params['b1'])\n",
    "        grads['w2'] = numerical_gradient(loss_w, self.params['w2'])\n",
    "        grads['b2'] = numerical_gradient(loss_w, self.params['b2'])\n",
    "        \n",
    "        return grads"
   ]
  },
  {
   "cell_type": "code",
   "execution_count": 44,
   "metadata": {},
   "outputs": [
    {
     "name": "stdout",
     "output_type": "stream",
     "text": [
      "w1 (784, 100)\n",
      "b1 (100,)\n",
      "w2 (100, 10)\n",
      "b2 (10,)\n"
     ]
    }
   ],
   "source": [
    "net = TwoLayerNet(input_size=784, hidden_size=100, output_size=10)\n",
    "for k, v in net.params.items():\n",
    "    print(k, v.shape)"
   ]
  },
  {
   "cell_type": "code",
   "execution_count": 47,
   "metadata": {},
   "outputs": [
    {
     "data": {
      "text/plain": [
       "array([[0.10671142, 0.10280814, 0.10157128, 0.09714492, 0.099074  ,\n",
       "        0.09202766, 0.10020892, 0.09551105, 0.1026211 , 0.10232152],\n",
       "       [0.10681817, 0.1026972 , 0.10138209, 0.09717243, 0.09919089,\n",
       "        0.09180173, 0.10035235, 0.0951077 , 0.10297684, 0.10250059],\n",
       "       [0.10715021, 0.10252118, 0.10152034, 0.09690911, 0.09924169,\n",
       "        0.09201334, 0.10034042, 0.09543632, 0.10308376, 0.10178364]])"
      ]
     },
     "execution_count": 47,
     "metadata": {},
     "output_type": "execute_result"
    }
   ],
   "source": [
    "x = np.random.rand(3, 784)\n",
    "y = net.predict(x)\n",
    "y"
   ]
  },
  {
   "cell_type": "code",
   "execution_count": 51,
   "metadata": {},
   "outputs": [
    {
     "data": {
      "text/plain": [
       "{'w1': array([[-2.57587132e-04, -1.10935246e-03, -1.78131438e-04, ...,\n",
       "          5.97679017e-06,  1.66802994e-03,  1.03695124e-03],\n",
       "        [-9.11218758e-04, -2.19475732e-03, -8.70588623e-04, ...,\n",
       "          1.07975686e-04,  1.79033559e-03,  1.33173007e-03],\n",
       "        [-4.38275625e-04, -1.21989926e-03, -5.05194326e-04, ...,\n",
       "         -6.49727161e-05,  1.42550442e-03,  9.22654786e-04],\n",
       "        ...,\n",
       "        [-2.74458323e-04, -5.40067153e-04, -8.59574212e-05, ...,\n",
       "          2.30552641e-04, -5.56864821e-05,  1.31301963e-04],\n",
       "        [-7.32766330e-04, -1.40379911e-03, -7.13689949e-04, ...,\n",
       "          1.41354881e-04,  5.23197083e-04,  5.62897862e-04],\n",
       "        [-5.63667519e-04, -1.25973789e-03, -1.05449425e-04, ...,\n",
       "          5.15796272e-04,  1.63633265e-04,  4.45447066e-04]]),\n",
       " 'b1': array([-1.32293534e-03, -2.99505130e-03, -1.12840660e-03, -3.94027730e-04,\n",
       "        -8.80884474e-04,  8.99225250e-04,  5.49783041e-04,  8.32596936e-04,\n",
       "         2.11737921e-03, -1.45677896e-03, -7.39492934e-05,  1.44310914e-03,\n",
       "        -7.31775129e-04,  5.34083602e-04,  9.01937454e-04, -8.97139127e-04,\n",
       "        -1.47726741e-03, -1.42510632e-03,  9.81145165e-06,  1.16228331e-03,\n",
       "        -1.68290296e-03,  1.14531600e-04,  2.49791090e-04, -2.78501644e-04,\n",
       "        -6.00792189e-04, -5.74987009e-04, -1.47765814e-03, -1.26638660e-03,\n",
       "         1.30683985e-03, -8.88143048e-05, -5.66766698e-04, -1.02373905e-03,\n",
       "        -8.84959896e-04,  7.89234185e-04,  5.36517977e-04,  1.34725489e-04,\n",
       "        -4.66048888e-04,  2.04036505e-03,  2.37881161e-03,  2.10044071e-05,\n",
       "        -2.24733498e-03, -1.84118936e-03, -1.59510067e-03, -1.11184379e-03,\n",
       "         1.49439015e-03, -1.04562745e-03, -1.49582244e-04,  1.34994191e-03,\n",
       "        -1.71664807e-04, -4.84306661e-04,  6.67746682e-04, -8.88462424e-04,\n",
       "         2.08713449e-04, -9.56348343e-04,  1.39599636e-03,  1.00562548e-03,\n",
       "        -4.02272593e-05,  4.14026384e-04,  2.02587471e-04, -1.23752653e-03,\n",
       "        -6.06227279e-04,  9.34852018e-05, -9.03668038e-04,  7.12947721e-04,\n",
       "        -4.66222534e-04, -1.80254648e-03, -2.19562227e-03, -5.89796485e-04,\n",
       "         7.28450329e-04, -9.86005433e-04,  1.92311758e-03, -8.32688078e-04,\n",
       "        -2.77368367e-03,  9.33832853e-04, -1.04828007e-03, -1.60348002e-03,\n",
       "         1.16865465e-03,  1.22648793e-03,  4.91303849e-04,  8.11586132e-04,\n",
       "         4.59490757e-05, -1.17107931e-03,  2.33700964e-03, -1.55824769e-03,\n",
       "         5.57404967e-04,  4.40620744e-04,  8.37354848e-04,  5.18918257e-04,\n",
       "         1.13113913e-03,  7.63038395e-04, -7.83042742e-06, -1.27194499e-05,\n",
       "        -8.57742095e-04, -8.92578267e-04,  3.65523867e-04, -1.34352894e-03,\n",
       "         2.72069889e-04,  3.27567109e-04,  1.88634777e-03,  1.58561032e-03]),\n",
       " 'w2': array([[-0.11321904,  0.0502804 ,  0.04947129,  0.04745901, -0.1154111 ,\n",
       "          0.04480187, -0.1102038 ,  0.04661102,  0.05037158,  0.04983877],\n",
       "        [-0.1157005 ,  0.0537428 ,  0.0528762 ,  0.05072628, -0.12761494,\n",
       "          0.04788882, -0.11885374,  0.04982027,  0.05384204,  0.05327275],\n",
       "        [-0.12210322,  0.05137874,  0.05055396,  0.04849297, -0.10851812,\n",
       "          0.04577699, -0.11559677,  0.04762889,  0.05146633,  0.05092022],\n",
       "        [-0.11309628,  0.05151129,  0.05068123,  0.04861457, -0.11394669,\n",
       "          0.04589756, -0.12006498,  0.04775046,  0.05160038,  0.05105247],\n",
       "        [-0.11669369,  0.05335919,  0.05249933,  0.0503629 , -0.12343423,\n",
       "          0.04754581, -0.11944918,  0.04946444,  0.05345566,  0.05288976],\n",
       "        [-0.10885359,  0.05141996,  0.05058984,  0.04852129, -0.10963784,\n",
       "          0.04581528, -0.12797844,  0.04766394,  0.05150438,  0.05095518],\n",
       "        [-0.11050054,  0.05340825,  0.05254556,  0.05040981, -0.13041842,\n",
       "          0.04759225, -0.11899783,  0.04950974,  0.05350839,  0.05294281],\n",
       "        [-0.09765935,  0.04812963,  0.04735136,  0.04542066, -0.111576  ,\n",
       "          0.04288678, -0.11508478,  0.04461472,  0.04821452,  0.04770246],\n",
       "        [-0.10319721,  0.05072743,  0.04990771,  0.04788764, -0.13487665,\n",
       "          0.04520696, -0.10380996,  0.04702642,  0.05083081,  0.05029685],\n",
       "        [-0.101756  ,  0.04673917,  0.0459859 ,  0.04411657, -0.11080506,\n",
       "          0.0416479 , -0.10241299,  0.04332806,  0.04682568,  0.04633077],\n",
       "        [-0.10680486,  0.04545332,  0.04472358,  0.04291067, -0.10893248,\n",
       "          0.04050176, -0.0905927 ,  0.04213828,  0.04554078,  0.04506164],\n",
       "        [-0.11327013,  0.05253878,  0.05169133,  0.04957932, -0.11261538,\n",
       "          0.04681215, -0.12812954,  0.04870168,  0.05262614,  0.05206564],\n",
       "        [-0.10559448,  0.04864737,  0.04786311,  0.04591323, -0.11054966,\n",
       "          0.04334679, -0.11167252,  0.04509594,  0.04873349,  0.04821673],\n",
       "        [-0.11052523,  0.05034488,  0.04953351,  0.04751045, -0.10761159,\n",
       "          0.0448571 , -0.12109872,  0.04666844,  0.05042895,  0.04989221],\n",
       "        [-0.10101107,  0.04387255,  0.04316729,  0.041411  , -0.09883836,\n",
       "          0.03909142, -0.09580139,  0.04067099,  0.04395129,  0.04348628],\n",
       "        [-0.10733339,  0.04750402,  0.04673954,  0.04483311, -0.10263148,\n",
       "          0.04232596, -0.11013867,  0.04403603,  0.04758515,  0.04707973],\n",
       "        [-0.11927675,  0.05384934,  0.05298189,  0.05081923, -0.11592023,\n",
       "          0.04797972, -0.12765749,  0.04991742,  0.05394024,  0.05336664],\n",
       "        [-0.10288128,  0.05206411,  0.05122135,  0.04913477, -0.12464809,\n",
       "          0.04639416, -0.12331026,  0.04826198,  0.05215826,  0.05160501],\n",
       "        [-0.11839464,  0.05563227,  0.0547345 ,  0.05250109, -0.12364025,\n",
       "          0.04956997, -0.13283594,  0.05156975,  0.05572782,  0.05513542],\n",
       "        [-0.12561411,  0.05865987,  0.05771353,  0.0553598 , -0.13133711,\n",
       "          0.05226788, -0.1383256 ,  0.05437665,  0.05876162,  0.05813747],\n",
       "        [-0.10934814,  0.04837552,  0.0475971 ,  0.04565803, -0.10722073,\n",
       "          0.04310331, -0.10941641,  0.04484448,  0.04846032,  0.04794653],\n",
       "        [-0.09547248,  0.05049367,  0.04967499,  0.04765488, -0.12759533,\n",
       "          0.04499724, -0.11720225,  0.04680651,  0.05058904,  0.05005372],\n",
       "        [-0.0989477 ,  0.05054469,  0.04972616,  0.0476986 , -0.11936095,\n",
       "          0.04503978, -0.12228469,  0.04685295,  0.0506345 ,  0.05009664],\n",
       "        [-0.1057861 ,  0.04743371,  0.04667004,  0.04477113, -0.10882952,\n",
       "          0.04226543, -0.10503236,  0.04397181,  0.04751937,  0.04701649],\n",
       "        [-0.1189382 ,  0.05242783,  0.05158405,  0.04947305, -0.10479281,\n",
       "          0.04671037, -0.12952403,  0.04859876,  0.05251073,  0.05195025],\n",
       "        [-0.11723902,  0.05442507,  0.05354766,  0.05137571, -0.13537596,\n",
       "          0.04849869, -0.1141727 ,  0.05045402,  0.05453051,  0.05395602],\n",
       "        [-0.08719937,  0.04494452,  0.04421618,  0.04240565, -0.09766107,\n",
       "          0.04004697, -0.11796623,  0.04165987,  0.04501736,  0.04453613],\n",
       "        [-0.11621691,  0.05468937,  0.05380667,  0.05160865, -0.11874649,\n",
       "          0.04872896, -0.133544  ,  0.05069508,  0.054781  ,  0.05419768],\n",
       "        [-0.11119888,  0.05144967,  0.05062022,  0.04856278, -0.12277883,\n",
       "          0.04584563, -0.11274123,  0.04769475,  0.0515453 ,  0.0510006 ],\n",
       "        [-0.11734094,  0.05212175,  0.05128297,  0.04919619, -0.11869257,\n",
       "          0.04644229, -0.11520587,  0.04831779,  0.05221551,  0.05166287],\n",
       "        [-0.10992328,  0.04826836,  0.04749188,  0.04555499, -0.10402561,\n",
       "          0.04300683, -0.11130615,  0.04474474,  0.04835085,  0.04783741],\n",
       "        [-0.10006169,  0.04939151,  0.04859307,  0.0466208 , -0.12523698,\n",
       "          0.04401456, -0.10756021,  0.04578661,  0.04948717,  0.04896518],\n",
       "        [-0.10678579,  0.0478933 ,  0.04712226,  0.04520624, -0.11140617,\n",
       "          0.04267542, -0.10455816,  0.04439816,  0.047981  ,  0.04747374],\n",
       "        [-0.10567085,  0.05211234,  0.05126969,  0.04918054, -0.12240064,\n",
       "          0.04643615, -0.12309118,  0.04830688,  0.05220551,  0.05165158],\n",
       "        [-0.12581169,  0.05768066,  0.05675089,  0.05443629, -0.12759173,\n",
       "          0.05139467, -0.13527489,  0.0534692 ,  0.05778017,  0.05716644],\n",
       "        [-0.1159976 ,  0.05384058,  0.05297243,  0.05081855, -0.12774108,\n",
       "          0.04797591, -0.11908924,  0.04991091,  0.05393994,  0.0533696 ],\n",
       "        [-0.10672522,  0.05507616,  0.05418374,  0.05197019, -0.12577032,\n",
       "          0.04907648, -0.13861607,  0.05105228,  0.05517025,  0.05458252],\n",
       "        [-0.13365572,  0.05852006,  0.05757888,  0.05523342, -0.12917546,\n",
       "          0.05214195, -0.13151581,  0.05424879,  0.05862263,  0.05800124],\n",
       "        [-0.10500405,  0.0508777 ,  0.05005575,  0.04801971, -0.12264799,\n",
       "          0.0453368 , -0.11520555,  0.04716351,  0.05097174,  0.05043238],\n",
       "        [-0.11416865,  0.04895177,  0.04816517,  0.0462    , -0.10287554,\n",
       "          0.04361467, -0.11281316,  0.0453784 ,  0.04903415,  0.04851318],\n",
       "        [-0.10396698,  0.05093253,  0.05010922,  0.048068  , -0.11996289,\n",
       "          0.04538489, -0.11928527,  0.04721348,  0.05102407,  0.05048295],\n",
       "        [-0.13148747,  0.05940087,  0.05844412,  0.05606361, -0.13390791,\n",
       "          0.05292802, -0.13488718,  0.05506482,  0.05950594,  0.05887518],\n",
       "        [-0.1020832 ,  0.0490549 ,  0.04826242,  0.04629105, -0.10803277,\n",
       "          0.04370924, -0.1204256 ,  0.04547189,  0.04913765,  0.04861444],\n",
       "        [-0.12599481,  0.05305188,  0.0522004 ,  0.050078  , -0.11880457,\n",
       "          0.04726983, -0.11271576,  0.04918129,  0.0531477 ,  0.05258602],\n",
       "        [-0.112257  ,  0.05113751,  0.05031348,  0.04826232, -0.11372482,\n",
       "          0.04556471, -0.11860943,  0.0474041 ,  0.05122644,  0.05068269],\n",
       "        [-0.10636506,  0.05342214,  0.05255758,  0.05041337, -0.12366157,\n",
       "          0.0476029 , -0.12995185,  0.04952017,  0.05351561,  0.05294671],\n",
       "        [-0.10247334,  0.04688439,  0.04612884,  0.04425104, -0.10777976,\n",
       "          0.04177622, -0.10568923,  0.0434621 ,  0.0469686 ,  0.04647114],\n",
       "        [-0.11205312,  0.04978426,  0.04898296,  0.04698572, -0.10864328,\n",
       "          0.04435803, -0.11477511,  0.04614992,  0.04987002,  0.0493406 ],\n",
       "        [-0.11670694,  0.05857812,  0.05763015,  0.05527925, -0.13584401,\n",
       "          0.05219732, -0.14217148,  0.05429963,  0.05868083,  0.05805713],\n",
       "        [-0.1288302 ,  0.05760653,  0.05667915,  0.05437107, -0.12970293,\n",
       "          0.05132904, -0.12966036,  0.05340176,  0.05770871,  0.05709724],\n",
       "        [-0.10576884,  0.05603406,  0.05512553,  0.05288468, -0.14279607,\n",
       "          0.04993493, -0.12904473,  0.05194254,  0.0561408 ,  0.0555471 ],\n",
       "        [-0.10933624,  0.04881391,  0.04802817,  0.04607369, -0.1113434 ,\n",
       "          0.04349499, -0.10826811,  0.04525126,  0.04890169,  0.04838406],\n",
       "        [-0.116615  ,  0.04687795,  0.0461274 ,  0.04425357, -0.10367285,\n",
       "          0.04176789, -0.09562865,  0.04345887,  0.04696319,  0.04646763],\n",
       "        [-0.10844104,  0.04998598,  0.04918029,  0.04718221, -0.12001778,\n",
       "          0.04454156, -0.10839968,  0.04633813,  0.0500796 ,  0.04955073],\n",
       "        [-0.10534681,  0.04778299,  0.04701328,  0.0451002 , -0.11013436,\n",
       "          0.04257692, -0.10651957,  0.04429539,  0.04786932,  0.04736262],\n",
       "        [-0.11236836,  0.04814975,  0.04737611,  0.04544422, -0.10243094,\n",
       "          0.04290048, -0.10965806,  0.0446352 ,  0.0482318 ,  0.04771979],\n",
       "        [-0.10797331,  0.04634902,  0.04560436,  0.04374856, -0.10321889,\n",
       "          0.04129752, -0.10114594,  0.04296681,  0.04643163,  0.04594025],\n",
       "        [-0.11328074,  0.05352784,  0.05266383,  0.05051578, -0.12037121,\n",
       "          0.04769536, -0.1270417 ,  0.04961912,  0.0536207 ,  0.05305103],\n",
       "        [-0.11052073,  0.05296372,  0.05210846,  0.0499883 , -0.12620767,\n",
       "          0.04719507, -0.12018436,  0.04909726,  0.05306081,  0.05249913],\n",
       "        [-0.13755448,  0.05600834,  0.05511078,  0.05286508, -0.11680632,\n",
       "          0.04990096, -0.12305897,  0.05192143,  0.05610399,  0.05550919],\n",
       "        [-0.10705514,  0.04958636,  0.04878694,  0.04680482, -0.11936092,\n",
       "          0.0441856 , -0.10774923,  0.0459676 ,  0.04967931,  0.04915465],\n",
       "        [-0.1229574 ,  0.05222572,  0.05138691,  0.04929047, -0.10926325,\n",
       "          0.04653141, -0.11969883,  0.04841355,  0.05231356,  0.05175786],\n",
       "        [-0.12948169,  0.05437217,  0.05349938,  0.05131683, -0.11293163,\n",
       "          0.04844343, -0.12397036,  0.05040353,  0.05446341,  0.05388493],\n",
       "        [-0.13354533,  0.0567669 ,  0.05585529,  0.053582  , -0.12521323,\n",
       "          0.05057948, -0.12378275,  0.05262455,  0.05686751,  0.05626558],\n",
       "        [-0.11971446,  0.05387289,  0.05300553,  0.05085253, -0.1281897 ,\n",
       "          0.04800448, -0.11515086,  0.04994187,  0.05397373,  0.05340398],\n",
       "        [-0.10407052,  0.04358057,  0.04288146,  0.04114317, -0.10336198,\n",
       "          0.03883253, -0.08627629,  0.04040232,  0.04366407,  0.04320469],\n",
       "        [-0.11589   ,  0.04785269,  0.04708537,  0.0451695 , -0.10409918,\n",
       "          0.04263613, -0.10248346,  0.04436137,  0.04793736,  0.04743022],\n",
       "        [-0.09769686,  0.05039267,  0.04957642,  0.04755957, -0.12499416,\n",
       "          0.04490628, -0.11689586,  0.04671302,  0.05048671,  0.04995223],\n",
       "        [-0.1218153 ,  0.05542698,  0.05453387,  0.0523103 , -0.1227591 ,\n",
       "          0.04938656, -0.12892016,  0.05138034,  0.055523  ,  0.05493352],\n",
       "        [-0.10766485,  0.04957645,  0.04877708,  0.04678524, -0.10707786,\n",
       "          0.04417289, -0.11931608,  0.04595606,  0.04965977,  0.04913131],\n",
       "        [-0.12381787,  0.05481439,  0.05393237,  0.05173642, -0.12297555,\n",
       "          0.04884091, -0.12258586,  0.05081364,  0.05491163,  0.05432993],\n",
       "        [-0.10946591,  0.05106679,  0.05024291,  0.04819147, -0.11147581,\n",
       "          0.04550129, -0.12316013,  0.04733744,  0.05115311,  0.05060884],\n",
       "        [-0.10548701,  0.04856436,  0.04778118,  0.04582571, -0.09983819,\n",
       "          0.04326953, -0.12189697,  0.04501684,  0.04864194,  0.04812261],\n",
       "        [-0.11146252,  0.05225346,  0.05141004,  0.04930407, -0.10633625,\n",
       "          0.04655627, -0.13427212,  0.04843573,  0.05233545,  0.05177586],\n",
       "        [-0.11340234,  0.05115827,  0.05033431,  0.0482831 , -0.11403541,\n",
       "          0.04558319, -0.11729673,  0.04742368,  0.05124778,  0.05070415],\n",
       "        [-0.11351375,  0.05038767,  0.04957696,  0.04756391, -0.11975708,\n",
       "          0.04489872, -0.10629986,  0.04671132,  0.05048234,  0.04994976],\n",
       "        [-0.12043352,  0.05615139,  0.05524564,  0.05299425, -0.12758994,\n",
       "          0.05003331, -0.1303568 ,  0.05205177,  0.05625035,  0.05565355],\n",
       "        [-0.11820017,  0.04913737,  0.04834942,  0.04639006, -0.11669766,\n",
       "          0.04378389, -0.09626313,  0.04555412,  0.0492319 ,  0.04871419],\n",
       "        [-0.11576057,  0.05083177,  0.05001391,  0.04796986, -0.10449615,\n",
       "          0.04528923, -0.12225485,  0.04711998,  0.05091459,  0.05037223],\n",
       "        [-0.10560601,  0.04734592,  0.04658359,  0.04468589, -0.10590638,\n",
       "          0.04218635, -0.10753489,  0.04388987,  0.04742925,  0.0469264 ],\n",
       "        [-0.11933261,  0.05122438,  0.05040127,  0.04834636, -0.10949752,\n",
       "          0.0456401 , -0.11634691,  0.04748546,  0.05131202,  0.05076745],\n",
       "        [-0.12522642,  0.05937455,  0.05841617,  0.056038  , -0.13907293,\n",
       "          0.05290677, -0.13580962,  0.05503992,  0.05948186,  0.0588517 ],\n",
       "        [-0.109079  ,  0.05090753,  0.05008616,  0.04803972, -0.10951729,\n",
       "          0.04535889, -0.12442693,  0.04718947,  0.05099228,  0.05044917],\n",
       "        [-0.10759454,  0.05105539,  0.05023139,  0.04819031, -0.1241892 ,\n",
       "          0.04549528, -0.11227996,  0.04732903,  0.05115133,  0.05061096],\n",
       "        [-0.11002981,  0.04753165,  0.04676767,  0.04486175, -0.10301635,\n",
       "          0.04235044, -0.1072505 ,  0.04406238,  0.04761389,  0.04710888],\n",
       "        [-0.11147677,  0.05436664,  0.05348792,  0.05130698, -0.12529812,\n",
       "          0.04844405, -0.1295733 ,  0.05039639,  0.05446231,  0.0538839 ],\n",
       "        [-0.11199623,  0.0521152 ,  0.05127476,  0.04918911, -0.12288514,\n",
       "          0.04643826, -0.11631618,  0.04831124,  0.05221069,  0.0516583 ],\n",
       "        [-0.11093439,  0.05037168,  0.04956016,  0.04754109, -0.11341603,\n",
       "          0.04488274, -0.11508574,  0.04669456,  0.0504605 ,  0.04992544],\n",
       "        [-0.12643376,  0.05767407,  0.05674469,  0.05443257, -0.12980129,\n",
       "          0.05138943, -0.13240772,  0.05346371,  0.05777554,  0.05716276],\n",
       "        [-0.116553  ,  0.05074405,  0.04992797,  0.04788822, -0.10463498,\n",
       "          0.04521109, -0.1207358 ,  0.04703898,  0.05082729,  0.05028619],\n",
       "        [-0.10050608,  0.04589954,  0.04515975,  0.04331578, -0.09881493,\n",
       "          0.04089657, -0.10996261,  0.04254781,  0.04597668,  0.0454875 ],\n",
       "        [-0.11646769,  0.0549638 ,  0.05407709,  0.05188455, -0.13894673,\n",
       "          0.04897963, -0.11500717,  0.05095342,  0.05507148,  0.05449161],\n",
       "        [-0.1373497 ,  0.05646677,  0.05556145,  0.05329825, -0.11960673,\n",
       "          0.0503101 , -0.12355578,  0.05234645,  0.05656427,  0.05596491],\n",
       "        [-0.12696636,  0.05760552,  0.05667748,  0.05436806, -0.12918795,\n",
       "          0.05132815, -0.13202654,  0.05340025,  0.05770672,  0.05709467],\n",
       "        [-0.11240033,  0.05078221,  0.04996421,  0.04792705, -0.11208063,\n",
       "          0.04524778, -0.11771527,  0.04707479,  0.05087012,  0.05033008],\n",
       "        [-0.08514395,  0.04462059,  0.04389722,  0.04210641, -0.10564231,\n",
       "          0.03976117, -0.10988376,  0.04136103,  0.04469941,  0.04422419],\n",
       "        [-0.12649819,  0.05763126,  0.05670275,  0.05439634, -0.13430699,\n",
       "          0.05135271, -0.12756489,  0.05342501,  0.05773638,  0.05712561],\n",
       "        [-0.12623346,  0.05555123,  0.05465755,  0.05242978, -0.12148179,\n",
       "          0.0494964 , -0.12662057,  0.05149625,  0.0556475 ,  0.05505711],\n",
       "        [-0.09131373,  0.04788731,  0.04711108,  0.04519295, -0.11787121,\n",
       "          0.04267354, -0.11351238,  0.04439002,  0.04797548,  0.04746693],\n",
       "        [-0.1131324 ,  0.05445232,  0.05357279,  0.0513908 , -0.1274215 ,\n",
       "          0.04852086, -0.12638136,  0.05047658,  0.05455013,  0.05397178]]),\n",
       " 'b2': array([-0.22610143,  0.10287947,  0.10122191,  0.09709996, -0.2340609 ,\n",
       "         0.09166962, -0.2331115 ,  0.09536966,  0.10306267,  0.10197055])}"
      ]
     },
     "execution_count": 51,
     "metadata": {},
     "output_type": "execute_result"
    }
   ],
   "source": [
    "x = np.random.rand(3, 784)\n",
    "t = np.random.rand(3, 10)\n",
    "y = net.numerical_gradient(x, t)\n",
    "y"
   ]
  },
  {
   "cell_type": "markdown",
   "metadata": {},
   "source": [
    "# 4.5.2"
   ]
  },
  {
   "cell_type": "code",
   "execution_count": 57,
   "metadata": {},
   "outputs": [
    {
     "name": "stdout",
     "output_type": "stream",
     "text": [
      "train acc, test acc | 0.134, 0.134\n",
      "train acc, test acc | 0.7799333333333334, 0.7848\n",
      "train acc, test acc | 0.87495, 0.8806\n",
      "train acc, test acc | 0.897, 0.9021\n",
      "train acc, test acc | 0.9081666666666667, 0.9113\n",
      "train acc, test acc | 0.9144, 0.9183\n",
      "train acc, test acc | 0.9212166666666667, 0.9235\n",
      "train acc, test acc | 0.9246666666666666, 0.9264\n",
      "train acc, test acc | 0.9292833333333334, 0.9321\n",
      "train acc, test acc | 0.9314833333333333, 0.9349\n",
      "train acc, test acc | 0.9355166666666667, 0.9379\n",
      "train acc, test acc | 0.9375333333333333, 0.9393\n",
      "train acc, test acc | 0.9403166666666667, 0.9401\n",
      "train acc, test acc | 0.9422333333333334, 0.9425\n",
      "train acc, test acc | 0.9443833333333334, 0.9427\n",
      "train acc, test acc | 0.9461333333333334, 0.9451\n",
      "train acc, test acc | 0.9477, 0.945\n"
     ]
    },
    {
     "data": {
      "image/png": "[encoded data removed]",
      "text/plain": [
       "<Figure size 432x288 with 1 Axes>"
      ]
     },
     "metadata": {
      "needs_background": "light"
     },
     "output_type": "display_data"
    }
   ],
   "source": [
    "# https://github.com/oreilly-japan/deep-learning-from-scratch/blob/master/ch04/train_neuralnet.py\n",
    "    \n",
    "import sys, os\n",
    "sys.path.append(os.pardir)  # 親ディレクトリのファイルをインポートするための設定\n",
    "import numpy as np\n",
    "import matplotlib.pyplot as plt\n",
    "from dataset.mnist import load_mnist\n",
    "from two_layer_net import TwoLayerNet\n",
    "\n",
    "# データの読み込み\n",
    "(x_train, t_train), (x_test, t_test) = load_mnist(normalize=True, one_hot_label=True)\n",
    "\n",
    "network = TwoLayerNet(input_size=784, hidden_size=50, output_size=10)\n",
    "\n",
    "iters_num = 10000  # 繰り返しの回数を適宜設定する\n",
    "train_size = x_train.shape[0]\n",
    "batch_size = 100\n",
    "learning_rate = 0.1\n",
    "\n",
    "train_loss_list = []\n",
    "train_acc_list = []\n",
    "test_acc_list = []\n",
    "\n",
    "iter_per_epoch = max(train_size / batch_size, 1)\n",
    "\n",
    "for i in range(iters_num):\n",
    "    batch_mask = np.random.choice(train_size, batch_size)\n",
    "    x_batch = x_train[batch_mask]\n",
    "    t_batch = t_train[batch_mask]\n",
    "    \n",
    "    # 勾配の計算\n",
    "    #grad = network.numerical_gradient(x_batch, t_batch)\n",
    "    grad = network.gradient(x_batch, t_batch)\n",
    "    \n",
    "    # パラメータの更新\n",
    "    for key in ('W1', 'b1', 'W2', 'b2'):\n",
    "        network.params[key] -= learning_rate * grad[key]\n",
    "    \n",
    "    loss = network.loss(x_batch, t_batch)\n",
    "    train_loss_list.append(loss)\n",
    "    \n",
    "    if i % iter_per_epoch == 0:\n",
    "        train_acc = network.accuracy(x_train, t_train)\n",
    "        test_acc = network.accuracy(x_test, t_test)\n",
    "        train_acc_list.append(train_acc)\n",
    "        test_acc_list.append(test_acc)\n",
    "        print(\"train acc, test acc | \" + str(train_acc) + \", \" + str(test_acc))\n",
    "\n",
    "# グラフの描画\n",
    "markers = {'train': 'o', 'test': 's'}\n",
    "x = np.arange(len(train_acc_list))\n",
    "plt.plot(x, train_acc_list, label='train acc')\n",
    "plt.plot(x, test_acc_list, label='test acc', linestyle='--')\n",
    "plt.xlabel(\"epochs\")\n",
    "plt.ylabel(\"accuracy\")\n",
    "plt.ylim(0, 1.0)\n",
    "plt.legend(loc='lower right')\n",
    "plt.show()"
   ]
  },
  {
   "cell_type": "code",
   "execution_count": 58,
   "metadata": {},
   "outputs": [
    {
     "data": {
      "image/png": "[encoded data removed]",
      "text/plain": [
       "<Figure size 432x288 with 1 Axes>"
      ]
     },
     "metadata": {
      "needs_background": "light"
     },
     "output_type": "display_data"
    }
   ],
   "source": [
    "x = np.arange(len(train_loss_list))\n",
    "plt.plot(x, train_loss_list, label='train loss')\n",
    "plt.xlabel(\"iters\")\n",
    "plt.ylabel(\"cross entropy\")\n",
    "plt.show()"
   ]
  },
  {
   "cell_type": "code",
   "execution_count": 54,
   "metadata": {},
   "outputs": [],
   "source": [
    "network = TwoLayerNet(input_size=784, hidden_size=50, output_size=10)"
   ]
  }
 ],
 "metadata": {
  "kernelspec": {
   "display_name": "Python 3",
   "language": "python",
   "name": "python3"
  },
  "language_info": {
   "codemirror_mode": {
    "name": "ipython",
    "version": 3
   },
   "file_extension": ".py",
   "mimetype": "text/x-python",
   "name": "python",
   "nbconvert_exporter": "python",
   "pygments_lexer": "ipython3",
   "version": "3.7.6"
  }
 },
 "nbformat": 4,
 "nbformat_minor": 4
}
